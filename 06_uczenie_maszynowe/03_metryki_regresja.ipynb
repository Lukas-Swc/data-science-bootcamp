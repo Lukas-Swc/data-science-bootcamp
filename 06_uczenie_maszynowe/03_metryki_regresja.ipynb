{
  "nbformat": 4,
  "nbformat_minor": 0,
  "metadata": {
    "colab": {
      "provenance": [],
      "authorship_tag": "ABX9TyNt/a2eaAi1Mv5vHBLFpj24",
      "include_colab_link": true
    },
    "kernelspec": {
      "name": "python3",
      "display_name": "Python 3"
    },
    "language_info": {
      "name": "python"
    }
  },
  "cells": [
    {
      "cell_type": "markdown",
      "metadata": {
        "id": "view-in-github",
        "colab_type": "text"
      },
      "source": [
        "<a href=\"https://colab.research.google.com/github/Lukas-Swc/data-science-bootcamp/blob/main/06_uczenie_maszynowe/03_metryki_regresja.ipynb\" target=\"_parent\"><img src=\"https://colab.research.google.com/assets/colab-badge.svg\" alt=\"Open In Colab\"/></a>"
      ]
    },
    {
      "cell_type": "markdown",
      "metadata": {
        "id": "5gjFu2l9IMsj"
      },
      "source": [
        "### scikit-learn\n",
        ">Strona biblioteki: [https://scikit-learn.org](https://scikit-learn.org)  \n",
        ">\n",
        ">Dokumentacja/User Guide: [https://scikit-learn.org/stable/user_guide.html](https://scikit-learn.org/stable/user_guide.html)\n",
        ">\n",
        ">Podstawowa biblioteka do uczenia maszynowego w języku Python.\n",
        ">\n",
        ">Aby zainstalować bibliotekę scikit-learn, użyj polecenia poniżej:\n",
        "```\n",
        "pip install scikit-learn\n",
        "```\n",
        "\n",
        "### Metryki - Problem regresji:\n",
        "1. [Import bibliotek](#a0)\n",
        "2. [Interpretacja graficzna](#a2)\n",
        "3. [Mean Absolute Error - MAE - Średni błąd bezwzględny](#a3)\n",
        "4. [Mean Squared Error - MSE - Błąd średniokwadratowy](#a4)\n",
        "5. [Root Mean Squared Error - RMSE - Pierwiastek błędu średniokwadratowego](#a5)\n",
        "6. [Max Error - Błąd maksymalny](#a6)\n",
        "7. [R2 score - współczynnik determinacji](#a7)\n",
        "\n",
        "    "
      ]
    },
    {
      "cell_type": "markdown",
      "metadata": {
        "id": "1Dc4DhtS7LTD"
      },
      "source": [
        "### <a name='a0'></a>  Import bibliotek"
      ]
    },
    {
      "cell_type": "code",
      "metadata": {
        "id": "qQZ7LNIt7KAY"
      },
      "source": [
        "import numpy as np\n",
        "import pandas as pd\n",
        "import plotly.express as px\n",
        "import plotly.graph_objects as go"
      ],
      "execution_count": 1,
      "outputs": []
    },
    {
      "cell_type": "code",
      "source": [
        "y_true = 100 + 20 * np.random.randn(50)\n",
        "y_true"
      ],
      "metadata": {
        "colab": {
          "base_uri": "https://localhost:8080/"
        },
        "id": "0dgXqah_yJ68",
        "outputId": "6d030999-1b0a-47f8-fdb1-fa2c96663893"
      },
      "execution_count": 2,
      "outputs": [
        {
          "output_type": "execute_result",
          "data": {
            "text/plain": [
              "array([ 76.67303523, 119.52101468,  91.74643631, 102.14712014,\n",
              "       123.03591897,  76.32890593,  93.332969  ,  74.8341302 ,\n",
              "        90.68152313, 118.17238449,  92.95094276,  88.98245266,\n",
              "       115.23274636, 123.07212925,  87.13203094, 120.45847052,\n",
              "       113.16915763,  71.59134852,  99.44643811,  82.15692275,\n",
              "        94.93677668,  82.43285013, 112.23665072, 120.97236084,\n",
              "        91.02341032,  80.56198694, 111.97284256,  85.56098723,\n",
              "       115.01628464,  79.33907681,  94.73785243, 124.77722821,\n",
              "        91.77897443,  88.77820111,  76.61700246, 109.76370443,\n",
              "        91.48040178,  93.59968434,  95.39469487, 101.91240421,\n",
              "        93.51433997,  75.507825  , 116.0246822 , 105.71827813,\n",
              "        94.24392927, 113.97568969,  84.49590296,  83.99569067,\n",
              "        73.98710431, 101.32041672])"
            ]
          },
          "metadata": {},
          "execution_count": 2
        }
      ]
    },
    {
      "cell_type": "code",
      "source": [
        "y_pred = y_true + 10 * np.random.randn(50)\n",
        "y_pred"
      ],
      "metadata": {
        "colab": {
          "base_uri": "https://localhost:8080/"
        },
        "id": "BIMA-NE5ydLy",
        "outputId": "0cf17245-52f5-458d-a1f1-ae0c725c4855"
      },
      "execution_count": 3,
      "outputs": [
        {
          "output_type": "execute_result",
          "data": {
            "text/plain": [
              "array([ 85.09980526, 118.3866612 ,  61.96828179,  93.52875633,\n",
              "       137.79654689,  78.75012013,  95.65630248,  77.65890595,\n",
              "        97.67445691, 103.30694822, 101.04271643, 105.78401942,\n",
              "       128.13719635, 127.78743402,  88.70428361, 100.44057383,\n",
              "       101.5923425 ,  63.72809179, 107.76698122,  94.90168893,\n",
              "       114.52804954,  87.6906581 ,  99.81227004, 105.93106003,\n",
              "       103.37124207,  77.99145239,  85.91649623,  87.97419785,\n",
              "       101.60431426,  72.63532322, 111.90517497, 144.2164356 ,\n",
              "        81.4751791 ,  73.76731138,  73.35481761, 112.68460156,\n",
              "       104.50100867,  98.40917357,  95.46799055, 105.86171316,\n",
              "        89.86958345,  83.40226943, 126.81492107, 113.21508004,\n",
              "       105.8261698 , 101.96434805,  90.1937423 ,  92.96799852,\n",
              "        58.67324878,  92.35719542])"
            ]
          },
          "metadata": {},
          "execution_count": 3
        }
      ]
    },
    {
      "cell_type": "code",
      "source": [
        "results = pd.DataFrame({'y_true': y_true, 'y_pred': y_pred})\n",
        "results.head()"
      ],
      "metadata": {
        "colab": {
          "base_uri": "https://localhost:8080/",
          "height": 206
        },
        "id": "ifqgiPi_y2w2",
        "outputId": "c34884d5-7f0c-4aaa-d524-2792e9c6d573"
      },
      "execution_count": 4,
      "outputs": [
        {
          "output_type": "execute_result",
          "data": {
            "text/plain": [
              "       y_true      y_pred\n",
              "0   76.673035   85.099805\n",
              "1  119.521015  118.386661\n",
              "2   91.746436   61.968282\n",
              "3  102.147120   93.528756\n",
              "4  123.035919  137.796547"
            ],
            "text/html": [
              "\n",
              "  <div id=\"df-3e66b70e-0739-4f44-996c-cc2a4728fa05\" class=\"colab-df-container\">\n",
              "    <div>\n",
              "<style scoped>\n",
              "    .dataframe tbody tr th:only-of-type {\n",
              "        vertical-align: middle;\n",
              "    }\n",
              "\n",
              "    .dataframe tbody tr th {\n",
              "        vertical-align: top;\n",
              "    }\n",
              "\n",
              "    .dataframe thead th {\n",
              "        text-align: right;\n",
              "    }\n",
              "</style>\n",
              "<table border=\"1\" class=\"dataframe\">\n",
              "  <thead>\n",
              "    <tr style=\"text-align: right;\">\n",
              "      <th></th>\n",
              "      <th>y_true</th>\n",
              "      <th>y_pred</th>\n",
              "    </tr>\n",
              "  </thead>\n",
              "  <tbody>\n",
              "    <tr>\n",
              "      <th>0</th>\n",
              "      <td>76.673035</td>\n",
              "      <td>85.099805</td>\n",
              "    </tr>\n",
              "    <tr>\n",
              "      <th>1</th>\n",
              "      <td>119.521015</td>\n",
              "      <td>118.386661</td>\n",
              "    </tr>\n",
              "    <tr>\n",
              "      <th>2</th>\n",
              "      <td>91.746436</td>\n",
              "      <td>61.968282</td>\n",
              "    </tr>\n",
              "    <tr>\n",
              "      <th>3</th>\n",
              "      <td>102.147120</td>\n",
              "      <td>93.528756</td>\n",
              "    </tr>\n",
              "    <tr>\n",
              "      <th>4</th>\n",
              "      <td>123.035919</td>\n",
              "      <td>137.796547</td>\n",
              "    </tr>\n",
              "  </tbody>\n",
              "</table>\n",
              "</div>\n",
              "    <div class=\"colab-df-buttons\">\n",
              "\n",
              "  <div class=\"colab-df-container\">\n",
              "    <button class=\"colab-df-convert\" onclick=\"convertToInteractive('df-3e66b70e-0739-4f44-996c-cc2a4728fa05')\"\n",
              "            title=\"Convert this dataframe to an interactive table.\"\n",
              "            style=\"display:none;\">\n",
              "\n",
              "  <svg xmlns=\"http://www.w3.org/2000/svg\" height=\"24px\" viewBox=\"0 -960 960 960\">\n",
              "    <path d=\"M120-120v-720h720v720H120Zm60-500h600v-160H180v160Zm220 220h160v-160H400v160Zm0 220h160v-160H400v160ZM180-400h160v-160H180v160Zm440 0h160v-160H620v160ZM180-180h160v-160H180v160Zm440 0h160v-160H620v160Z\"/>\n",
              "  </svg>\n",
              "    </button>\n",
              "\n",
              "  <style>\n",
              "    .colab-df-container {\n",
              "      display:flex;\n",
              "      gap: 12px;\n",
              "    }\n",
              "\n",
              "    .colab-df-convert {\n",
              "      background-color: #E8F0FE;\n",
              "      border: none;\n",
              "      border-radius: 50%;\n",
              "      cursor: pointer;\n",
              "      display: none;\n",
              "      fill: #1967D2;\n",
              "      height: 32px;\n",
              "      padding: 0 0 0 0;\n",
              "      width: 32px;\n",
              "    }\n",
              "\n",
              "    .colab-df-convert:hover {\n",
              "      background-color: #E2EBFA;\n",
              "      box-shadow: 0px 1px 2px rgba(60, 64, 67, 0.3), 0px 1px 3px 1px rgba(60, 64, 67, 0.15);\n",
              "      fill: #174EA6;\n",
              "    }\n",
              "\n",
              "    .colab-df-buttons div {\n",
              "      margin-bottom: 4px;\n",
              "    }\n",
              "\n",
              "    [theme=dark] .colab-df-convert {\n",
              "      background-color: #3B4455;\n",
              "      fill: #D2E3FC;\n",
              "    }\n",
              "\n",
              "    [theme=dark] .colab-df-convert:hover {\n",
              "      background-color: #434B5C;\n",
              "      box-shadow: 0px 1px 3px 1px rgba(0, 0, 0, 0.15);\n",
              "      filter: drop-shadow(0px 1px 2px rgba(0, 0, 0, 0.3));\n",
              "      fill: #FFFFFF;\n",
              "    }\n",
              "  </style>\n",
              "\n",
              "    <script>\n",
              "      const buttonEl =\n",
              "        document.querySelector('#df-3e66b70e-0739-4f44-996c-cc2a4728fa05 button.colab-df-convert');\n",
              "      buttonEl.style.display =\n",
              "        google.colab.kernel.accessAllowed ? 'block' : 'none';\n",
              "\n",
              "      async function convertToInteractive(key) {\n",
              "        const element = document.querySelector('#df-3e66b70e-0739-4f44-996c-cc2a4728fa05');\n",
              "        const dataTable =\n",
              "          await google.colab.kernel.invokeFunction('convertToInteractive',\n",
              "                                                    [key], {});\n",
              "        if (!dataTable) return;\n",
              "\n",
              "        const docLinkHtml = 'Like what you see? Visit the ' +\n",
              "          '<a target=\"_blank\" href=https://colab.research.google.com/notebooks/data_table.ipynb>data table notebook</a>'\n",
              "          + ' to learn more about interactive tables.';\n",
              "        element.innerHTML = '';\n",
              "        dataTable['output_type'] = 'display_data';\n",
              "        await google.colab.output.renderOutput(dataTable, element);\n",
              "        const docLink = document.createElement('div');\n",
              "        docLink.innerHTML = docLinkHtml;\n",
              "        element.appendChild(docLink);\n",
              "      }\n",
              "    </script>\n",
              "  </div>\n",
              "\n",
              "\n",
              "<div id=\"df-7b2bdc95-2114-48d4-8ac7-ae57f56eabc9\">\n",
              "  <button class=\"colab-df-quickchart\" onclick=\"quickchart('df-7b2bdc95-2114-48d4-8ac7-ae57f56eabc9')\"\n",
              "            title=\"Suggest charts\"\n",
              "            style=\"display:none;\">\n",
              "\n",
              "<svg xmlns=\"http://www.w3.org/2000/svg\" height=\"24px\"viewBox=\"0 0 24 24\"\n",
              "     width=\"24px\">\n",
              "    <g>\n",
              "        <path d=\"M19 3H5c-1.1 0-2 .9-2 2v14c0 1.1.9 2 2 2h14c1.1 0 2-.9 2-2V5c0-1.1-.9-2-2-2zM9 17H7v-7h2v7zm4 0h-2V7h2v10zm4 0h-2v-4h2v4z\"/>\n",
              "    </g>\n",
              "</svg>\n",
              "  </button>\n",
              "\n",
              "<style>\n",
              "  .colab-df-quickchart {\n",
              "      --bg-color: #E8F0FE;\n",
              "      --fill-color: #1967D2;\n",
              "      --hover-bg-color: #E2EBFA;\n",
              "      --hover-fill-color: #174EA6;\n",
              "      --disabled-fill-color: #AAA;\n",
              "      --disabled-bg-color: #DDD;\n",
              "  }\n",
              "\n",
              "  [theme=dark] .colab-df-quickchart {\n",
              "      --bg-color: #3B4455;\n",
              "      --fill-color: #D2E3FC;\n",
              "      --hover-bg-color: #434B5C;\n",
              "      --hover-fill-color: #FFFFFF;\n",
              "      --disabled-bg-color: #3B4455;\n",
              "      --disabled-fill-color: #666;\n",
              "  }\n",
              "\n",
              "  .colab-df-quickchart {\n",
              "    background-color: var(--bg-color);\n",
              "    border: none;\n",
              "    border-radius: 50%;\n",
              "    cursor: pointer;\n",
              "    display: none;\n",
              "    fill: var(--fill-color);\n",
              "    height: 32px;\n",
              "    padding: 0;\n",
              "    width: 32px;\n",
              "  }\n",
              "\n",
              "  .colab-df-quickchart:hover {\n",
              "    background-color: var(--hover-bg-color);\n",
              "    box-shadow: 0 1px 2px rgba(60, 64, 67, 0.3), 0 1px 3px 1px rgba(60, 64, 67, 0.15);\n",
              "    fill: var(--button-hover-fill-color);\n",
              "  }\n",
              "\n",
              "  .colab-df-quickchart-complete:disabled,\n",
              "  .colab-df-quickchart-complete:disabled:hover {\n",
              "    background-color: var(--disabled-bg-color);\n",
              "    fill: var(--disabled-fill-color);\n",
              "    box-shadow: none;\n",
              "  }\n",
              "\n",
              "  .colab-df-spinner {\n",
              "    border: 2px solid var(--fill-color);\n",
              "    border-color: transparent;\n",
              "    border-bottom-color: var(--fill-color);\n",
              "    animation:\n",
              "      spin 1s steps(1) infinite;\n",
              "  }\n",
              "\n",
              "  @keyframes spin {\n",
              "    0% {\n",
              "      border-color: transparent;\n",
              "      border-bottom-color: var(--fill-color);\n",
              "      border-left-color: var(--fill-color);\n",
              "    }\n",
              "    20% {\n",
              "      border-color: transparent;\n",
              "      border-left-color: var(--fill-color);\n",
              "      border-top-color: var(--fill-color);\n",
              "    }\n",
              "    30% {\n",
              "      border-color: transparent;\n",
              "      border-left-color: var(--fill-color);\n",
              "      border-top-color: var(--fill-color);\n",
              "      border-right-color: var(--fill-color);\n",
              "    }\n",
              "    40% {\n",
              "      border-color: transparent;\n",
              "      border-right-color: var(--fill-color);\n",
              "      border-top-color: var(--fill-color);\n",
              "    }\n",
              "    60% {\n",
              "      border-color: transparent;\n",
              "      border-right-color: var(--fill-color);\n",
              "    }\n",
              "    80% {\n",
              "      border-color: transparent;\n",
              "      border-right-color: var(--fill-color);\n",
              "      border-bottom-color: var(--fill-color);\n",
              "    }\n",
              "    90% {\n",
              "      border-color: transparent;\n",
              "      border-bottom-color: var(--fill-color);\n",
              "    }\n",
              "  }\n",
              "</style>\n",
              "\n",
              "  <script>\n",
              "    async function quickchart(key) {\n",
              "      const quickchartButtonEl =\n",
              "        document.querySelector('#' + key + ' button');\n",
              "      quickchartButtonEl.disabled = true;  // To prevent multiple clicks.\n",
              "      quickchartButtonEl.classList.add('colab-df-spinner');\n",
              "      try {\n",
              "        const charts = await google.colab.kernel.invokeFunction(\n",
              "            'suggestCharts', [key], {});\n",
              "      } catch (error) {\n",
              "        console.error('Error during call to suggestCharts:', error);\n",
              "      }\n",
              "      quickchartButtonEl.classList.remove('colab-df-spinner');\n",
              "      quickchartButtonEl.classList.add('colab-df-quickchart-complete');\n",
              "    }\n",
              "    (() => {\n",
              "      let quickchartButtonEl =\n",
              "        document.querySelector('#df-7b2bdc95-2114-48d4-8ac7-ae57f56eabc9 button');\n",
              "      quickchartButtonEl.style.display =\n",
              "        google.colab.kernel.accessAllowed ? 'block' : 'none';\n",
              "    })();\n",
              "  </script>\n",
              "</div>\n",
              "\n",
              "    </div>\n",
              "  </div>\n"
            ],
            "application/vnd.google.colaboratory.intrinsic+json": {
              "type": "dataframe",
              "variable_name": "results",
              "summary": "{\n  \"name\": \"results\",\n  \"rows\": 50,\n  \"fields\": [\n    {\n      \"column\": \"y_true\",\n      \"properties\": {\n        \"dtype\": \"number\",\n        \"std\": 15.562341632590085,\n        \"min\": 71.5913485153903,\n        \"max\": 124.77722820692237,\n        \"num_unique_values\": 50,\n        \"samples\": [\n          123.07212924946779,\n          101.91240421285326,\n          94.73785242937652\n        ],\n        \"semantic_type\": \"\",\n        \"description\": \"\"\n      }\n    },\n    {\n      \"column\": \"y_pred\",\n      \"properties\": {\n        \"dtype\": \"number\",\n        \"std\": 18.356027374900858,\n        \"min\": 58.67324877748469,\n        \"max\": 144.216435599585,\n        \"num_unique_values\": 50,\n        \"samples\": [\n          127.78743402052305,\n          105.86171315913019,\n          111.90517497443602\n        ],\n        \"semantic_type\": \"\",\n        \"description\": \"\"\n      }\n    }\n  ]\n}"
            }
          },
          "metadata": {},
          "execution_count": 4
        }
      ]
    },
    {
      "cell_type": "code",
      "source": [
        "results['error'] = results['y_true'] - results['y_pred']\n",
        "results.head()"
      ],
      "metadata": {
        "colab": {
          "base_uri": "https://localhost:8080/",
          "height": 206
        },
        "id": "32k5U-ynzaCm",
        "outputId": "f9c00853-4820-489c-bba5-e29b78559c7d"
      },
      "execution_count": 7,
      "outputs": [
        {
          "output_type": "execute_result",
          "data": {
            "text/plain": [
              "       y_true      y_pred      error\n",
              "0   76.673035   85.099805  -8.426770\n",
              "1  119.521015  118.386661   1.134353\n",
              "2   91.746436   61.968282  29.778155\n",
              "3  102.147120   93.528756   8.618364\n",
              "4  123.035919  137.796547 -14.760628"
            ],
            "text/html": [
              "\n",
              "  <div id=\"df-a8b54abd-942a-44c6-8cdf-e4d49e3b4048\" class=\"colab-df-container\">\n",
              "    <div>\n",
              "<style scoped>\n",
              "    .dataframe tbody tr th:only-of-type {\n",
              "        vertical-align: middle;\n",
              "    }\n",
              "\n",
              "    .dataframe tbody tr th {\n",
              "        vertical-align: top;\n",
              "    }\n",
              "\n",
              "    .dataframe thead th {\n",
              "        text-align: right;\n",
              "    }\n",
              "</style>\n",
              "<table border=\"1\" class=\"dataframe\">\n",
              "  <thead>\n",
              "    <tr style=\"text-align: right;\">\n",
              "      <th></th>\n",
              "      <th>y_true</th>\n",
              "      <th>y_pred</th>\n",
              "      <th>error</th>\n",
              "    </tr>\n",
              "  </thead>\n",
              "  <tbody>\n",
              "    <tr>\n",
              "      <th>0</th>\n",
              "      <td>76.673035</td>\n",
              "      <td>85.099805</td>\n",
              "      <td>-8.426770</td>\n",
              "    </tr>\n",
              "    <tr>\n",
              "      <th>1</th>\n",
              "      <td>119.521015</td>\n",
              "      <td>118.386661</td>\n",
              "      <td>1.134353</td>\n",
              "    </tr>\n",
              "    <tr>\n",
              "      <th>2</th>\n",
              "      <td>91.746436</td>\n",
              "      <td>61.968282</td>\n",
              "      <td>29.778155</td>\n",
              "    </tr>\n",
              "    <tr>\n",
              "      <th>3</th>\n",
              "      <td>102.147120</td>\n",
              "      <td>93.528756</td>\n",
              "      <td>8.618364</td>\n",
              "    </tr>\n",
              "    <tr>\n",
              "      <th>4</th>\n",
              "      <td>123.035919</td>\n",
              "      <td>137.796547</td>\n",
              "      <td>-14.760628</td>\n",
              "    </tr>\n",
              "  </tbody>\n",
              "</table>\n",
              "</div>\n",
              "    <div class=\"colab-df-buttons\">\n",
              "\n",
              "  <div class=\"colab-df-container\">\n",
              "    <button class=\"colab-df-convert\" onclick=\"convertToInteractive('df-a8b54abd-942a-44c6-8cdf-e4d49e3b4048')\"\n",
              "            title=\"Convert this dataframe to an interactive table.\"\n",
              "            style=\"display:none;\">\n",
              "\n",
              "  <svg xmlns=\"http://www.w3.org/2000/svg\" height=\"24px\" viewBox=\"0 -960 960 960\">\n",
              "    <path d=\"M120-120v-720h720v720H120Zm60-500h600v-160H180v160Zm220 220h160v-160H400v160Zm0 220h160v-160H400v160ZM180-400h160v-160H180v160Zm440 0h160v-160H620v160ZM180-180h160v-160H180v160Zm440 0h160v-160H620v160Z\"/>\n",
              "  </svg>\n",
              "    </button>\n",
              "\n",
              "  <style>\n",
              "    .colab-df-container {\n",
              "      display:flex;\n",
              "      gap: 12px;\n",
              "    }\n",
              "\n",
              "    .colab-df-convert {\n",
              "      background-color: #E8F0FE;\n",
              "      border: none;\n",
              "      border-radius: 50%;\n",
              "      cursor: pointer;\n",
              "      display: none;\n",
              "      fill: #1967D2;\n",
              "      height: 32px;\n",
              "      padding: 0 0 0 0;\n",
              "      width: 32px;\n",
              "    }\n",
              "\n",
              "    .colab-df-convert:hover {\n",
              "      background-color: #E2EBFA;\n",
              "      box-shadow: 0px 1px 2px rgba(60, 64, 67, 0.3), 0px 1px 3px 1px rgba(60, 64, 67, 0.15);\n",
              "      fill: #174EA6;\n",
              "    }\n",
              "\n",
              "    .colab-df-buttons div {\n",
              "      margin-bottom: 4px;\n",
              "    }\n",
              "\n",
              "    [theme=dark] .colab-df-convert {\n",
              "      background-color: #3B4455;\n",
              "      fill: #D2E3FC;\n",
              "    }\n",
              "\n",
              "    [theme=dark] .colab-df-convert:hover {\n",
              "      background-color: #434B5C;\n",
              "      box-shadow: 0px 1px 3px 1px rgba(0, 0, 0, 0.15);\n",
              "      filter: drop-shadow(0px 1px 2px rgba(0, 0, 0, 0.3));\n",
              "      fill: #FFFFFF;\n",
              "    }\n",
              "  </style>\n",
              "\n",
              "    <script>\n",
              "      const buttonEl =\n",
              "        document.querySelector('#df-a8b54abd-942a-44c6-8cdf-e4d49e3b4048 button.colab-df-convert');\n",
              "      buttonEl.style.display =\n",
              "        google.colab.kernel.accessAllowed ? 'block' : 'none';\n",
              "\n",
              "      async function convertToInteractive(key) {\n",
              "        const element = document.querySelector('#df-a8b54abd-942a-44c6-8cdf-e4d49e3b4048');\n",
              "        const dataTable =\n",
              "          await google.colab.kernel.invokeFunction('convertToInteractive',\n",
              "                                                    [key], {});\n",
              "        if (!dataTable) return;\n",
              "\n",
              "        const docLinkHtml = 'Like what you see? Visit the ' +\n",
              "          '<a target=\"_blank\" href=https://colab.research.google.com/notebooks/data_table.ipynb>data table notebook</a>'\n",
              "          + ' to learn more about interactive tables.';\n",
              "        element.innerHTML = '';\n",
              "        dataTable['output_type'] = 'display_data';\n",
              "        await google.colab.output.renderOutput(dataTable, element);\n",
              "        const docLink = document.createElement('div');\n",
              "        docLink.innerHTML = docLinkHtml;\n",
              "        element.appendChild(docLink);\n",
              "      }\n",
              "    </script>\n",
              "  </div>\n",
              "\n",
              "\n",
              "<div id=\"df-20d8023f-4463-46f6-971a-7a36fa5be941\">\n",
              "  <button class=\"colab-df-quickchart\" onclick=\"quickchart('df-20d8023f-4463-46f6-971a-7a36fa5be941')\"\n",
              "            title=\"Suggest charts\"\n",
              "            style=\"display:none;\">\n",
              "\n",
              "<svg xmlns=\"http://www.w3.org/2000/svg\" height=\"24px\"viewBox=\"0 0 24 24\"\n",
              "     width=\"24px\">\n",
              "    <g>\n",
              "        <path d=\"M19 3H5c-1.1 0-2 .9-2 2v14c0 1.1.9 2 2 2h14c1.1 0 2-.9 2-2V5c0-1.1-.9-2-2-2zM9 17H7v-7h2v7zm4 0h-2V7h2v10zm4 0h-2v-4h2v4z\"/>\n",
              "    </g>\n",
              "</svg>\n",
              "  </button>\n",
              "\n",
              "<style>\n",
              "  .colab-df-quickchart {\n",
              "      --bg-color: #E8F0FE;\n",
              "      --fill-color: #1967D2;\n",
              "      --hover-bg-color: #E2EBFA;\n",
              "      --hover-fill-color: #174EA6;\n",
              "      --disabled-fill-color: #AAA;\n",
              "      --disabled-bg-color: #DDD;\n",
              "  }\n",
              "\n",
              "  [theme=dark] .colab-df-quickchart {\n",
              "      --bg-color: #3B4455;\n",
              "      --fill-color: #D2E3FC;\n",
              "      --hover-bg-color: #434B5C;\n",
              "      --hover-fill-color: #FFFFFF;\n",
              "      --disabled-bg-color: #3B4455;\n",
              "      --disabled-fill-color: #666;\n",
              "  }\n",
              "\n",
              "  .colab-df-quickchart {\n",
              "    background-color: var(--bg-color);\n",
              "    border: none;\n",
              "    border-radius: 50%;\n",
              "    cursor: pointer;\n",
              "    display: none;\n",
              "    fill: var(--fill-color);\n",
              "    height: 32px;\n",
              "    padding: 0;\n",
              "    width: 32px;\n",
              "  }\n",
              "\n",
              "  .colab-df-quickchart:hover {\n",
              "    background-color: var(--hover-bg-color);\n",
              "    box-shadow: 0 1px 2px rgba(60, 64, 67, 0.3), 0 1px 3px 1px rgba(60, 64, 67, 0.15);\n",
              "    fill: var(--button-hover-fill-color);\n",
              "  }\n",
              "\n",
              "  .colab-df-quickchart-complete:disabled,\n",
              "  .colab-df-quickchart-complete:disabled:hover {\n",
              "    background-color: var(--disabled-bg-color);\n",
              "    fill: var(--disabled-fill-color);\n",
              "    box-shadow: none;\n",
              "  }\n",
              "\n",
              "  .colab-df-spinner {\n",
              "    border: 2px solid var(--fill-color);\n",
              "    border-color: transparent;\n",
              "    border-bottom-color: var(--fill-color);\n",
              "    animation:\n",
              "      spin 1s steps(1) infinite;\n",
              "  }\n",
              "\n",
              "  @keyframes spin {\n",
              "    0% {\n",
              "      border-color: transparent;\n",
              "      border-bottom-color: var(--fill-color);\n",
              "      border-left-color: var(--fill-color);\n",
              "    }\n",
              "    20% {\n",
              "      border-color: transparent;\n",
              "      border-left-color: var(--fill-color);\n",
              "      border-top-color: var(--fill-color);\n",
              "    }\n",
              "    30% {\n",
              "      border-color: transparent;\n",
              "      border-left-color: var(--fill-color);\n",
              "      border-top-color: var(--fill-color);\n",
              "      border-right-color: var(--fill-color);\n",
              "    }\n",
              "    40% {\n",
              "      border-color: transparent;\n",
              "      border-right-color: var(--fill-color);\n",
              "      border-top-color: var(--fill-color);\n",
              "    }\n",
              "    60% {\n",
              "      border-color: transparent;\n",
              "      border-right-color: var(--fill-color);\n",
              "    }\n",
              "    80% {\n",
              "      border-color: transparent;\n",
              "      border-right-color: var(--fill-color);\n",
              "      border-bottom-color: var(--fill-color);\n",
              "    }\n",
              "    90% {\n",
              "      border-color: transparent;\n",
              "      border-bottom-color: var(--fill-color);\n",
              "    }\n",
              "  }\n",
              "</style>\n",
              "\n",
              "  <script>\n",
              "    async function quickchart(key) {\n",
              "      const quickchartButtonEl =\n",
              "        document.querySelector('#' + key + ' button');\n",
              "      quickchartButtonEl.disabled = true;  // To prevent multiple clicks.\n",
              "      quickchartButtonEl.classList.add('colab-df-spinner');\n",
              "      try {\n",
              "        const charts = await google.colab.kernel.invokeFunction(\n",
              "            'suggestCharts', [key], {});\n",
              "      } catch (error) {\n",
              "        console.error('Error during call to suggestCharts:', error);\n",
              "      }\n",
              "      quickchartButtonEl.classList.remove('colab-df-spinner');\n",
              "      quickchartButtonEl.classList.add('colab-df-quickchart-complete');\n",
              "    }\n",
              "    (() => {\n",
              "      let quickchartButtonEl =\n",
              "        document.querySelector('#df-20d8023f-4463-46f6-971a-7a36fa5be941 button');\n",
              "      quickchartButtonEl.style.display =\n",
              "        google.colab.kernel.accessAllowed ? 'block' : 'none';\n",
              "    })();\n",
              "  </script>\n",
              "</div>\n",
              "\n",
              "    </div>\n",
              "  </div>\n"
            ],
            "application/vnd.google.colaboratory.intrinsic+json": {
              "type": "dataframe",
              "variable_name": "results",
              "summary": "{\n  \"name\": \"results\",\n  \"rows\": 50,\n  \"fields\": [\n    {\n      \"column\": \"y_true\",\n      \"properties\": {\n        \"dtype\": \"number\",\n        \"std\": 15.562341632590085,\n        \"min\": 71.5913485153903,\n        \"max\": 124.77722820692237,\n        \"num_unique_values\": 50,\n        \"samples\": [\n          123.07212924946779,\n          101.91240421285326,\n          94.73785242937652\n        ],\n        \"semantic_type\": \"\",\n        \"description\": \"\"\n      }\n    },\n    {\n      \"column\": \"y_pred\",\n      \"properties\": {\n        \"dtype\": \"number\",\n        \"std\": 18.356027374900858,\n        \"min\": 58.67324877748469,\n        \"max\": 144.216435599585,\n        \"num_unique_values\": 50,\n        \"samples\": [\n          127.78743402052305,\n          105.86171315913019,\n          111.90517497443602\n        ],\n        \"semantic_type\": \"\",\n        \"description\": \"\"\n      }\n    },\n    {\n      \"column\": \"error\",\n      \"properties\": {\n        \"dtype\": \"number\",\n        \"std\": 11.907790780086206,\n        \"min\": -19.591272856966526,\n        \"max\": 29.778154515100184,\n        \"num_unique_values\": 50,\n        \"samples\": [\n          -4.7153047710552585,\n          -3.949308946276929,\n          -17.167322545059506\n        ],\n        \"semantic_type\": \"\",\n        \"description\": \"\"\n      }\n    }\n  ]\n}"
            }
          },
          "metadata": {},
          "execution_count": 7
        }
      ]
    },
    {
      "cell_type": "markdown",
      "metadata": {
        "id": "JkXYHzBlCrXB"
      },
      "source": [
        "\n",
        "### <a name='a2'></a> Interpretacja graficzna"
      ]
    },
    {
      "cell_type": "code",
      "source": [
        "def plot_regression_results(y_true, y_pred):\n",
        "    results = pd.DataFrame({'y_true': y_true, 'y_pred': y_pred})\n",
        "    min = results[['y_true', 'y_pred']].min().min()\n",
        "    max = results[['y_true', 'y_pred']].max().max()\n",
        "\n",
        "    fig = go.Figure(data=[go.Scatter(x=results['y_true'], y=results['y_pred'], mode='markers'),\n",
        "                    go.Scatter(x=[min, max], y=[min, max])],\n",
        "                    layout=go.Layout(showlegend=False, width=800, height=500,\n",
        "                                     xaxis_title='y_true',\n",
        "                                     yaxis_title='y_pred',\n",
        "                                     title='Regression results'))\n",
        "    fig.show()\n",
        "plot_regression_results(y_true, y_pred)"
      ],
      "metadata": {
        "colab": {
          "base_uri": "https://localhost:8080/",
          "height": 517
        },
        "id": "U4yER33Dz35s",
        "outputId": "27b66045-e171-4242-efa5-468649c44700"
      },
      "execution_count": 10,
      "outputs": [
        {
          "output_type": "display_data",
          "data": {
            "text/html": [
              "<html>\n",
              "<head><meta charset=\"utf-8\" /></head>\n",
              "<body>\n",
              "    <div>            <script src=\"https://cdnjs.cloudflare.com/ajax/libs/mathjax/2.7.5/MathJax.js?config=TeX-AMS-MML_SVG\"></script><script type=\"text/javascript\">if (window.MathJax && window.MathJax.Hub && window.MathJax.Hub.Config) {window.MathJax.Hub.Config({SVG: {font: \"STIX-Web\"}});}</script>                <script type=\"text/javascript\">window.PlotlyConfig = {MathJaxConfig: 'local'};</script>\n",
              "        <script charset=\"utf-8\" src=\"https://cdn.plot.ly/plotly-2.35.2.min.js\"></script>                <div id=\"61c4b9a4-cfda-47ef-a66a-834eefff15da\" class=\"plotly-graph-div\" style=\"height:500px; width:800px;\"></div>            <script type=\"text/javascript\">                                    window.PLOTLYENV=window.PLOTLYENV || {};                                    if (document.getElementById(\"61c4b9a4-cfda-47ef-a66a-834eefff15da\")) {                    Plotly.newPlot(                        \"61c4b9a4-cfda-47ef-a66a-834eefff15da\",                        [{\"mode\":\"markers\",\"x\":[76.67303523125537,119.52101467888554,91.74643630661885,102.14712014090003,123.03591896943271,76.32890592786765,93.33296899544143,74.83413020265294,90.68152312981783,118.17238449311478,92.95094276049745,88.98245266418904,115.23274635557061,123.07212924946779,87.13203093956044,120.45847051534169,113.16915763116893,71.5913485153903,99.4464381123144,82.15692275191402,94.936776679333,82.43285013242097,112.23665071633401,120.9723608370818,91.02341031954268,80.56198694177723,111.97284256484629,85.56098723315796,115.01628463535015,79.33907680664223,94.73785242937652,124.77722820692237,91.77897443478074,88.77820111092299,76.6170024599843,109.76370443065272,91.48040178414797,93.59968433665293,95.39469486832124,101.91240421285326,93.51433996833872,75.50782500029848,116.02468219653234,105.7182781291073,94.24392927141884,113.97568968709265,84.49590296050872,83.99569066601532,73.98710431212156,101.32041671554711],\"y\":[85.0998052646376,118.38666120191706,61.96828179151866,93.52875633184017,137.79654688765208,78.75012012585525,95.65630248288022,77.65890595416795,97.67445691160788,103.30694821509508,101.04271642672529,105.78401941923735,128.13719635319345,127.78743402052305,88.70428361217414,100.44057382712732,101.59234250336998,63.728091787681244,107.76698121609122,94.90168892809014,114.52804953629952,87.69065810103078,99.8122700404392,105.93106003379074,103.37124207173483,77.99145238846658,85.91649622895702,87.9741978528254,101.60431426261273,72.63532321705661,111.90517497443602,144.216435599585,81.47517909783896,73.76731138465523,73.35481760730059,112.68460156419962,104.501008669438,98.40917357311932,95.46799054703236,105.86171315913019,89.86958345287364,83.40226942763196,126.8149210722323,113.21508004150735,105.82616980387658,101.96434805040971,90.19374229912438,92.96799852139424,58.67324877748469,92.35719541780588],\"type\":\"scatter\"},{\"x\":[58.67324877748469,144.216435599585],\"y\":[58.67324877748469,144.216435599585],\"type\":\"scatter\"}],                        {\"height\":500,\"showlegend\":false,\"title\":{\"text\":\"Regression results\"},\"width\":800,\"xaxis\":{\"title\":{\"text\":\"y_true\"}},\"yaxis\":{\"title\":{\"text\":\"y_pred\"}},\"template\":{\"data\":{\"histogram2dcontour\":[{\"type\":\"histogram2dcontour\",\"colorbar\":{\"outlinewidth\":0,\"ticks\":\"\"},\"colorscale\":[[0.0,\"#0d0887\"],[0.1111111111111111,\"#46039f\"],[0.2222222222222222,\"#7201a8\"],[0.3333333333333333,\"#9c179e\"],[0.4444444444444444,\"#bd3786\"],[0.5555555555555556,\"#d8576b\"],[0.6666666666666666,\"#ed7953\"],[0.7777777777777778,\"#fb9f3a\"],[0.8888888888888888,\"#fdca26\"],[1.0,\"#f0f921\"]]}],\"choropleth\":[{\"type\":\"choropleth\",\"colorbar\":{\"outlinewidth\":0,\"ticks\":\"\"}}],\"histogram2d\":[{\"type\":\"histogram2d\",\"colorbar\":{\"outlinewidth\":0,\"ticks\":\"\"},\"colorscale\":[[0.0,\"#0d0887\"],[0.1111111111111111,\"#46039f\"],[0.2222222222222222,\"#7201a8\"],[0.3333333333333333,\"#9c179e\"],[0.4444444444444444,\"#bd3786\"],[0.5555555555555556,\"#d8576b\"],[0.6666666666666666,\"#ed7953\"],[0.7777777777777778,\"#fb9f3a\"],[0.8888888888888888,\"#fdca26\"],[1.0,\"#f0f921\"]]}],\"heatmap\":[{\"type\":\"heatmap\",\"colorbar\":{\"outlinewidth\":0,\"ticks\":\"\"},\"colorscale\":[[0.0,\"#0d0887\"],[0.1111111111111111,\"#46039f\"],[0.2222222222222222,\"#7201a8\"],[0.3333333333333333,\"#9c179e\"],[0.4444444444444444,\"#bd3786\"],[0.5555555555555556,\"#d8576b\"],[0.6666666666666666,\"#ed7953\"],[0.7777777777777778,\"#fb9f3a\"],[0.8888888888888888,\"#fdca26\"],[1.0,\"#f0f921\"]]}],\"heatmapgl\":[{\"type\":\"heatmapgl\",\"colorbar\":{\"outlinewidth\":0,\"ticks\":\"\"},\"colorscale\":[[0.0,\"#0d0887\"],[0.1111111111111111,\"#46039f\"],[0.2222222222222222,\"#7201a8\"],[0.3333333333333333,\"#9c179e\"],[0.4444444444444444,\"#bd3786\"],[0.5555555555555556,\"#d8576b\"],[0.6666666666666666,\"#ed7953\"],[0.7777777777777778,\"#fb9f3a\"],[0.8888888888888888,\"#fdca26\"],[1.0,\"#f0f921\"]]}],\"contourcarpet\":[{\"type\":\"contourcarpet\",\"colorbar\":{\"outlinewidth\":0,\"ticks\":\"\"}}],\"contour\":[{\"type\":\"contour\",\"colorbar\":{\"outlinewidth\":0,\"ticks\":\"\"},\"colorscale\":[[0.0,\"#0d0887\"],[0.1111111111111111,\"#46039f\"],[0.2222222222222222,\"#7201a8\"],[0.3333333333333333,\"#9c179e\"],[0.4444444444444444,\"#bd3786\"],[0.5555555555555556,\"#d8576b\"],[0.6666666666666666,\"#ed7953\"],[0.7777777777777778,\"#fb9f3a\"],[0.8888888888888888,\"#fdca26\"],[1.0,\"#f0f921\"]]}],\"surface\":[{\"type\":\"surface\",\"colorbar\":{\"outlinewidth\":0,\"ticks\":\"\"},\"colorscale\":[[0.0,\"#0d0887\"],[0.1111111111111111,\"#46039f\"],[0.2222222222222222,\"#7201a8\"],[0.3333333333333333,\"#9c179e\"],[0.4444444444444444,\"#bd3786\"],[0.5555555555555556,\"#d8576b\"],[0.6666666666666666,\"#ed7953\"],[0.7777777777777778,\"#fb9f3a\"],[0.8888888888888888,\"#fdca26\"],[1.0,\"#f0f921\"]]}],\"mesh3d\":[{\"type\":\"mesh3d\",\"colorbar\":{\"outlinewidth\":0,\"ticks\":\"\"}}],\"scatter\":[{\"fillpattern\":{\"fillmode\":\"overlay\",\"size\":10,\"solidity\":0.2},\"type\":\"scatter\"}],\"parcoords\":[{\"type\":\"parcoords\",\"line\":{\"colorbar\":{\"outlinewidth\":0,\"ticks\":\"\"}}}],\"scatterpolargl\":[{\"type\":\"scatterpolargl\",\"marker\":{\"colorbar\":{\"outlinewidth\":0,\"ticks\":\"\"}}}],\"bar\":[{\"error_x\":{\"color\":\"#2a3f5f\"},\"error_y\":{\"color\":\"#2a3f5f\"},\"marker\":{\"line\":{\"color\":\"#E5ECF6\",\"width\":0.5},\"pattern\":{\"fillmode\":\"overlay\",\"size\":10,\"solidity\":0.2}},\"type\":\"bar\"}],\"scattergeo\":[{\"type\":\"scattergeo\",\"marker\":{\"colorbar\":{\"outlinewidth\":0,\"ticks\":\"\"}}}],\"scatterpolar\":[{\"type\":\"scatterpolar\",\"marker\":{\"colorbar\":{\"outlinewidth\":0,\"ticks\":\"\"}}}],\"histogram\":[{\"marker\":{\"pattern\":{\"fillmode\":\"overlay\",\"size\":10,\"solidity\":0.2}},\"type\":\"histogram\"}],\"scattergl\":[{\"type\":\"scattergl\",\"marker\":{\"colorbar\":{\"outlinewidth\":0,\"ticks\":\"\"}}}],\"scatter3d\":[{\"type\":\"scatter3d\",\"line\":{\"colorbar\":{\"outlinewidth\":0,\"ticks\":\"\"}},\"marker\":{\"colorbar\":{\"outlinewidth\":0,\"ticks\":\"\"}}}],\"scattermapbox\":[{\"type\":\"scattermapbox\",\"marker\":{\"colorbar\":{\"outlinewidth\":0,\"ticks\":\"\"}}}],\"scatterternary\":[{\"type\":\"scatterternary\",\"marker\":{\"colorbar\":{\"outlinewidth\":0,\"ticks\":\"\"}}}],\"scattercarpet\":[{\"type\":\"scattercarpet\",\"marker\":{\"colorbar\":{\"outlinewidth\":0,\"ticks\":\"\"}}}],\"carpet\":[{\"aaxis\":{\"endlinecolor\":\"#2a3f5f\",\"gridcolor\":\"white\",\"linecolor\":\"white\",\"minorgridcolor\":\"white\",\"startlinecolor\":\"#2a3f5f\"},\"baxis\":{\"endlinecolor\":\"#2a3f5f\",\"gridcolor\":\"white\",\"linecolor\":\"white\",\"minorgridcolor\":\"white\",\"startlinecolor\":\"#2a3f5f\"},\"type\":\"carpet\"}],\"table\":[{\"cells\":{\"fill\":{\"color\":\"#EBF0F8\"},\"line\":{\"color\":\"white\"}},\"header\":{\"fill\":{\"color\":\"#C8D4E3\"},\"line\":{\"color\":\"white\"}},\"type\":\"table\"}],\"barpolar\":[{\"marker\":{\"line\":{\"color\":\"#E5ECF6\",\"width\":0.5},\"pattern\":{\"fillmode\":\"overlay\",\"size\":10,\"solidity\":0.2}},\"type\":\"barpolar\"}],\"pie\":[{\"automargin\":true,\"type\":\"pie\"}]},\"layout\":{\"autotypenumbers\":\"strict\",\"colorway\":[\"#636efa\",\"#EF553B\",\"#00cc96\",\"#ab63fa\",\"#FFA15A\",\"#19d3f3\",\"#FF6692\",\"#B6E880\",\"#FF97FF\",\"#FECB52\"],\"font\":{\"color\":\"#2a3f5f\"},\"hovermode\":\"closest\",\"hoverlabel\":{\"align\":\"left\"},\"paper_bgcolor\":\"white\",\"plot_bgcolor\":\"#E5ECF6\",\"polar\":{\"bgcolor\":\"#E5ECF6\",\"angularaxis\":{\"gridcolor\":\"white\",\"linecolor\":\"white\",\"ticks\":\"\"},\"radialaxis\":{\"gridcolor\":\"white\",\"linecolor\":\"white\",\"ticks\":\"\"}},\"ternary\":{\"bgcolor\":\"#E5ECF6\",\"aaxis\":{\"gridcolor\":\"white\",\"linecolor\":\"white\",\"ticks\":\"\"},\"baxis\":{\"gridcolor\":\"white\",\"linecolor\":\"white\",\"ticks\":\"\"},\"caxis\":{\"gridcolor\":\"white\",\"linecolor\":\"white\",\"ticks\":\"\"}},\"coloraxis\":{\"colorbar\":{\"outlinewidth\":0,\"ticks\":\"\"}},\"colorscale\":{\"sequential\":[[0.0,\"#0d0887\"],[0.1111111111111111,\"#46039f\"],[0.2222222222222222,\"#7201a8\"],[0.3333333333333333,\"#9c179e\"],[0.4444444444444444,\"#bd3786\"],[0.5555555555555556,\"#d8576b\"],[0.6666666666666666,\"#ed7953\"],[0.7777777777777778,\"#fb9f3a\"],[0.8888888888888888,\"#fdca26\"],[1.0,\"#f0f921\"]],\"sequentialminus\":[[0.0,\"#0d0887\"],[0.1111111111111111,\"#46039f\"],[0.2222222222222222,\"#7201a8\"],[0.3333333333333333,\"#9c179e\"],[0.4444444444444444,\"#bd3786\"],[0.5555555555555556,\"#d8576b\"],[0.6666666666666666,\"#ed7953\"],[0.7777777777777778,\"#fb9f3a\"],[0.8888888888888888,\"#fdca26\"],[1.0,\"#f0f921\"]],\"diverging\":[[0,\"#8e0152\"],[0.1,\"#c51b7d\"],[0.2,\"#de77ae\"],[0.3,\"#f1b6da\"],[0.4,\"#fde0ef\"],[0.5,\"#f7f7f7\"],[0.6,\"#e6f5d0\"],[0.7,\"#b8e186\"],[0.8,\"#7fbc41\"],[0.9,\"#4d9221\"],[1,\"#276419\"]]},\"xaxis\":{\"gridcolor\":\"white\",\"linecolor\":\"white\",\"ticks\":\"\",\"title\":{\"standoff\":15},\"zerolinecolor\":\"white\",\"automargin\":true,\"zerolinewidth\":2},\"yaxis\":{\"gridcolor\":\"white\",\"linecolor\":\"white\",\"ticks\":\"\",\"title\":{\"standoff\":15},\"zerolinecolor\":\"white\",\"automargin\":true,\"zerolinewidth\":2},\"scene\":{\"xaxis\":{\"backgroundcolor\":\"#E5ECF6\",\"gridcolor\":\"white\",\"linecolor\":\"white\",\"showbackground\":true,\"ticks\":\"\",\"zerolinecolor\":\"white\",\"gridwidth\":2},\"yaxis\":{\"backgroundcolor\":\"#E5ECF6\",\"gridcolor\":\"white\",\"linecolor\":\"white\",\"showbackground\":true,\"ticks\":\"\",\"zerolinecolor\":\"white\",\"gridwidth\":2},\"zaxis\":{\"backgroundcolor\":\"#E5ECF6\",\"gridcolor\":\"white\",\"linecolor\":\"white\",\"showbackground\":true,\"ticks\":\"\",\"zerolinecolor\":\"white\",\"gridwidth\":2}},\"shapedefaults\":{\"line\":{\"color\":\"#2a3f5f\"}},\"annotationdefaults\":{\"arrowcolor\":\"#2a3f5f\",\"arrowhead\":0,\"arrowwidth\":1},\"geo\":{\"bgcolor\":\"white\",\"landcolor\":\"#E5ECF6\",\"subunitcolor\":\"white\",\"showland\":true,\"showlakes\":true,\"lakecolor\":\"white\"},\"title\":{\"x\":0.05},\"mapbox\":{\"style\":\"light\"}}}},                        {\"responsive\": true}                    ).then(function(){\n",
              "                            \n",
              "var gd = document.getElementById('61c4b9a4-cfda-47ef-a66a-834eefff15da');\n",
              "var x = new MutationObserver(function (mutations, observer) {{\n",
              "        var display = window.getComputedStyle(gd).display;\n",
              "        if (!display || display === 'none') {{\n",
              "            console.log([gd, 'removed!']);\n",
              "            Plotly.purge(gd);\n",
              "            observer.disconnect();\n",
              "        }}\n",
              "}});\n",
              "\n",
              "// Listen for the removal of the full notebook cells\n",
              "var notebookContainer = gd.closest('#notebook-container');\n",
              "if (notebookContainer) {{\n",
              "    x.observe(notebookContainer, {childList: true});\n",
              "}}\n",
              "\n",
              "// Listen for the clearing of the current output cell\n",
              "var outputEl = gd.closest('.output');\n",
              "if (outputEl) {{\n",
              "    x.observe(outputEl, {childList: true});\n",
              "}}\n",
              "\n",
              "                        })                };                            </script>        </div>\n",
              "</body>\n",
              "</html>"
            ]
          },
          "metadata": {}
        }
      ]
    },
    {
      "cell_type": "code",
      "source": [
        "y_true = 100 + 20 * np.random.randn(1000)\n",
        "y_pred = y_true + 10 * np.random.randn(1000)\n",
        "results = pd.DataFrame({'y_true': y_true, 'y_pred': y_pred})\n",
        "results['error'] = results['y_true'] - results['y_pred']\n",
        "\n",
        "px.histogram(results, x='error', nbins=50, width=800)"
      ],
      "metadata": {
        "colab": {
          "base_uri": "https://localhost:8080/",
          "height": 542
        },
        "id": "QER3YBZb1XOe",
        "outputId": "c0c12cb6-2791-4508-cd76-80e73dac7f78"
      },
      "execution_count": 11,
      "outputs": [
        {
          "output_type": "display_data",
          "data": {
            "text/html": [
              "<html>\n",
              "<head><meta charset=\"utf-8\" /></head>\n",
              "<body>\n",
              "    <div>            <script src=\"https://cdnjs.cloudflare.com/ajax/libs/mathjax/2.7.5/MathJax.js?config=TeX-AMS-MML_SVG\"></script><script type=\"text/javascript\">if (window.MathJax && window.MathJax.Hub && window.MathJax.Hub.Config) {window.MathJax.Hub.Config({SVG: {font: \"STIX-Web\"}});}</script>                <script type=\"text/javascript\">window.PlotlyConfig = {MathJaxConfig: 'local'};</script>\n",
              "        <script charset=\"utf-8\" src=\"https://cdn.plot.ly/plotly-2.35.2.min.js\"></script>                <div id=\"806c7cc7-4dad-4871-b18d-1228c44d853a\" class=\"plotly-graph-div\" style=\"height:525px; width:800px;\"></div>            <script type=\"text/javascript\">                                    window.PLOTLYENV=window.PLOTLYENV || {};                                    if (document.getElementById(\"806c7cc7-4dad-4871-b18d-1228c44d853a\")) {                    Plotly.newPlot(                        \"806c7cc7-4dad-4871-b18d-1228c44d853a\",                        [{\"alignmentgroup\":\"True\",\"bingroup\":\"x\",\"hovertemplate\":\"error=%{x}\\u003cbr\\u003ecount=%{y}\\u003cextra\\u003e\\u003c\\u002fextra\\u003e\",\"legendgroup\":\"\",\"marker\":{\"color\":\"#636efa\",\"pattern\":{\"shape\":\"\"}},\"name\":\"\",\"nbinsx\":50,\"offsetgroup\":\"\",\"orientation\":\"v\",\"showlegend\":false,\"x\":[-2.6893282638843345,-9.298715201190646,-29.53684136433732,-6.455074975059858,-5.101138985684969,-23.772670791365712,1.2705522962987033,2.42830334075785,-2.407028299970179,9.74079091061347,-13.694033181611061,19.915396323345774,-5.844329480447087,14.533603091260687,-16.137357379782955,-10.946361768725652,15.368644136450726,-4.4937515657099,-10.7799236241015,-12.039090003807942,-13.33962628968888,-8.941917499961122,8.99009512252114,-4.366406019248274,16.983239897792075,-3.9872510634119607,-1.7147714056168297,16.906552613073032,-1.9378073737262866,-3.1881006297150805,-6.238742690266932,1.5745345448117547,3.017973504183516,-0.15663519102557188,-2.791568112059565,-4.347936698845828,10.58779327593382,-1.3448602855241916,9.315738235596527,-15.368775042854438,15.107787811847118,-7.903579386151009,7.345811174048521,-1.5053719656156517,-9.426479937228706,2.911322136177418,3.136158565397835,16.875982733086516,-0.18203226082852098,-0.8788108821984366,-11.301852075241982,5.635106588010288,-7.931889494829804,0.07770843125990723,7.302237286078935,9.920069766830949,9.572056386611791,11.612277164165022,-16.949951006810522,20.870565358625186,-2.648300078659517,-9.96987490211383,-5.908688048644393,8.506721442550315,7.402569066293296,21.30668260146065,-10.00896625007961,-6.836631106527761,-7.299091070573581,-1.6134588476281664,17.55298469772238,-0.8732682147447832,10.373970967499858,-3.4394683651669453,-23.9244052595773,2.166526026084995,-0.5967074036650359,4.94760307217814,-2.6597219307970477,5.0125032667068865,5.6244721504332205,5.108005475437821,-4.0078313195398465,-7.047636127412375,-0.22878390682544136,-1.0505740984328327,-0.15060363577276803,3.9149137632567204,10.052056096302039,-4.092501894905979,12.731545635619682,-15.75236918471947,-10.179189980694389,-2.1879282433461356,-2.2880625433660384,-10.27417061473507,-12.536618365600305,-24.530745792464103,-2.473113785889211,-0.44924896198217823,14.384113743047777,14.612779237540977,10.734382272791379,-3.1518573662179676,0.32587508744795457,-13.58939684031202,-8.723274502707909,13.264169439756941,-0.8872373547181098,-4.215283078088078,9.661177702130416,-8.78672553104623,-4.03325867492417,-3.1566339500397476,-12.841455880298838,-12.456877344312517,-7.006728969467019,-17.069733511526692,10.084636403878449,2.946744498721273,1.527496697005148,9.189312744964653,9.463117409486955,-6.838240544900032,5.654559178931493,-0.13814749785021263,-1.7125554858697427,1.8162300431680904,-13.899299554191714,6.728571049046138,-5.967074623469244,-25.456905068609444,0.12096841710146577,0.6770061744132647,-11.980733762388695,-13.929453934715895,9.42456392968262,-1.7050935826842135,-14.163557152439964,-8.361586367051132,14.422744816135477,-27.468446817380283,1.1212026446721666,15.990018346177393,-2.893469762854153,15.723167001701128,-0.8256751065675303,-13.237509432265924,17.282671348482936,19.026891517116496,-7.34204762910376,6.958551400960218,3.3374911635537075,1.0989586945243985,8.433278406672244,19.6547563839121,1.6291143512761153,-13.177783998573204,6.553909468260926,-12.999054288188802,-1.0888168847319122,-17.348305061835845,1.9615413863946287,1.1534536242932631,-7.850369393585979,15.917447799832658,14.840828796148443,-1.2244318733455515,19.258240499983756,2.965313965017131,-2.2314463992140787,-5.008067748849186,14.845364338309196,-7.667736258334557,-1.1822893866115436,-1.5487282778002012,18.55105805500216,3.886391192277898,11.425471629660734,-6.285927937142375,-2.9265825418704026,1.4777739592337298,-2.9223791079772354,-3.9465802090272177,-3.335211570177364,-6.717793787991894,9.701466134602697,7.028582296733688,-4.894001504597483,-22.4003397220211,6.339487206336742,-3.079065082024954,-15.783166525321178,18.328254497653177,-0.12778288052344067,1.5162778040887588,-9.512815340879257,-4.435292038322828,-2.6655395500539925,-2.0282541750631253,-0.08297320190860091,-17.77963144199947,0.37139755560608023,15.988595959007199,-0.1810293666696623,-12.217862154417332,7.197336092871865,13.000381614799323,-15.788395328017558,3.4514184411430477,-8.550744375599265,-2.7959659969304766,-15.158987345986063,-9.597773349080455,3.348605670009377,-5.544630695319057,7.641029700477901,-7.6104327972755925,-14.00269682346007,-3.554536892613484,5.408157365275031,2.0644735986962814,-2.6168762472856173,13.653825292948582,-5.289023240774142,3.209209780600162,16.48664953453006,4.506203058452087,-2.6508126448345948,-12.780963609056627,-6.246508544779687,5.410234198236282,5.180717138934483,3.3356385943343554,-2.8665678330205964,0.23482257602765344,8.421035528121848,3.972780110314943,-20.100733006092113,11.144654099810651,-12.573031205713264,-2.7242540262506907,17.111746169031846,-8.113935070637325,-2.1212006243050183,-11.042177301090845,-16.089567870178286,17.89132172547231,6.264585038191385,5.170205908846043,6.071009017030221,-1.6845177644388798,-9.086821288033036,-16.442793236788972,0.8629704587481086,-0.9079831442330004,1.0203973972881215,-12.11917984888099,-1.3969325381749087,-1.394972337734444,-7.16387176426808,-14.753843663058902,2.2744404824802444,5.808817100446859,-9.340990287359801,9.40539150033186,14.676917400166303,-10.146211120193001,-1.3829836114360603,11.30937307490322,-4.039318196848228,-11.48871183772107,-3.1960416785239545,14.810699259770637,-4.41895583673805,6.383521883145519,9.073554213863687,-8.036768093993544,6.032526398328926,8.704827961719587,-3.4440909560160833,4.858069602303985,7.748776899083296,-3.7913530513734344,-1.6578794572750297,-12.36663233020694,12.75537009068276,-1.7212484295046266,-0.37418086071640744,17.138740499424358,-12.613382473278321,0.01358195202413981,-9.089681767843842,9.043765293519755,10.588326979835728,13.312916367757921,14.990331957927566,7.097718143340387,-3.2513850823118133,-5.438913414008411,-10.396951527301098,-12.443604140561064,-5.50303937632701,-4.068757519418256,11.258926201655342,-10.737700083185487,2.1357331483771134,1.8452033064839384,-15.530208867860694,6.50288779530338,-12.897341074475094,1.992338996165131,10.990656715952525,-11.154055929803405,-4.3786968754531586,-0.6635010614145358,0.2649414843390332,1.685987878488831,-8.766466145876905,3.1085224823861495,-16.59838883507456,-2.8363100064706117,2.6206165776480788,-5.265541563926007,1.9454329883383679,3.5479962946459125,-9.062942898869991,3.3617533876426364,2.752846525180587,3.7187934558123317,-3.847577553799809,-14.022316859301085,4.683164196921069,0.29816912884218993,-1.1707498326244448,-5.970377159664025,18.76531307729315,7.76085447154847,3.909755459434507,9.363905060770577,-8.355577390849646,6.133569116851646,-13.142549455427826,3.131528878114125,-8.792580474888695,-3.9048406092632035,7.100142569111611,5.623533062244704,-7.224050163307965,4.054838902197218,6.950053023012316,10.376115387875132,-14.80958114053361,-7.366444996447498,10.793274235042446,6.0096635877760605,-5.671278732362097,3.701444163955969,8.576602821239845,5.156938140741829,9.547076376314266,-14.537150084212868,-1.8717258601411828,1.4155997647678475,-3.4720893315367505,-6.008500621448377,4.525882461743834,-6.334446106693619,1.4929589449546512,7.857332761101247,-2.8916321472553363,-2.95051131253895,14.29123351501326,-1.825366288382753,-3.8314726258626877,5.071233638286273,11.493697190545745,8.385050810689236,-5.055871816033587,-9.070288550718487,3.317701316294233,-5.144380354264271,-21.81362385779161,19.16415492493931,3.303203136322253,4.327938323403728,-14.843101460548027,-17.86148816986082,1.084314133623991,13.683765609572333,-12.509667327151817,20.752575674144794,9.585073625406324,-17.568578291804357,-6.761358652630818,-4.250554564529779,-12.820073857952323,5.909971935513823,-6.246571667780273,2.415231480539788,-3.2878574215007887,7.916704778243272,4.483559091940656,5.42718195610243,8.179188825089682,-4.764138281725906,1.059828569653078,3.067743614195294,-0.4874883894305242,9.111781506224133,-15.173230160654583,4.09005798824154,-4.713842680327744,-6.401359994906855,0.8771865942464956,15.188622068406843,7.866421108278175,4.316697611128021,4.275963479073141,2.2828461641753677,-7.967917382513832,-2.18215062214783,0.1812951178658011,-19.172485289507293,1.639283973536564,17.22145775466433,-0.19553688487563647,-3.7162738214443323,12.407267711599374,-6.539521176557386,-13.72330324744155,3.8335556847091823,-2.207832684364732,-5.915609083991697,-0.5063543538111617,22.401099882690318,9.887650001857885,-1.741853909438035,9.008820440093103,-6.496287857297844,9.419884481594153,7.8642953585320186,8.439336738305585,-4.06038119516171,-3.9533876310456435,-10.555510024916927,1.069802597084177,3.107771091061295,7.327167324933811,0.6120430448177814,-15.289309482658922,0.6945169958388959,15.225986106282647,19.112112085090175,-2.3089276394426435,-5.307581639090657,-5.407280319417296,8.853843089075468,-3.9505134121524605,19.2578029919255,4.0778223300558665,-5.967080463175421,-5.0804938536776945,1.4597537011972292,22.129661131430105,-7.188358424782891,10.079693009086782,0.04389299134089697,0.8066117753579078,11.29889785809226,-17.496219717011684,-6.547711542337183,-1.9727800199996892,11.935948121306538,-13.269093723045899,-4.04961035442534,-9.321547398080895,-10.684778875543984,-0.6774801787260003,-16.987468364770308,6.575660646680404,3.6855730888897256,-9.863882407825102,13.108946764276354,8.114642963494845,6.212489074118494,-2.1604676722516274,7.151884024920811,-4.330887650150345,13.069864750731682,9.65425592555674,2.8129294958553004,7.307042643670144,5.1654968540747035,0.2263486939068997,10.204348249270012,-17.693222557460587,-7.894178708439938,3.7338046889270515,-0.060617998291562,-2.2303180572602486,14.873879561326547,-2.6156912825421017,-16.626703231542706,2.7004535245585117,-0.840854752130312,10.083924821023487,-1.716210391081944,-10.248813197989165,8.035953430500001,-1.8279834935733277,-10.071695450202895,16.26640817470839,3.8437551512846255,13.200392965386932,9.721510521014352,11.83706123582995,2.585438258615156,0.12799350763276607,6.091747546508834,9.384026438713576,-6.3897659539553615,0.42949713261076283,-3.9510572429657884,0.774813999062431,3.985752906831344,-6.105079476777846,2.826378123823204,-6.303560757060538,5.008940014256872,-14.887210674190058,-1.1747242143630814,-6.720882219314689,-5.878523061822165,14.49163717293711,5.25427380394612,-26.23681113113173,15.90203427496651,-11.343236447275828,-12.069382930309331,4.848101071107223,12.098438990495964,-13.962868224058994,7.307062489088878,10.863689474421065,-4.040211395665509,6.945852388629888,1.8117538223639116,2.6258668692940716,-1.8661635624392403,11.574767294522857,-6.66883260027393,-2.1968096884691732,27.246939179447693,-4.586193852189311,6.5225469765007915,0.4275347053692258,17.337559911277197,5.001399226009497,-2.8890186873817925,-10.924736281801842,4.1071114244139295,10.303284783185902,-0.4749076281179043,4.750788315580223,5.995554553245057,3.4148966685926325,-7.904693201306543,4.026096881005813,-7.578093461200893,7.187735222484463,-4.400312339678365,-3.947241349611488,-8.203664210969322,13.206687942674392,2.839015915974656,-8.047083785343304,5.111031647418187,31.247061502976848,7.7327958308487865,-5.809529911158407,12.912877834630734,0.33152422817633465,6.931333659260332,-1.0363589001498212,6.633481163682745,7.564241778010711,-1.0075271237503216,16.698962561206855,1.2813074412997167,-11.006758616191433,-8.408645320841089,-10.232350237721874,30.584984301204244,-19.918040743926923,12.743779764747728,12.839686179882335,5.730025960800887,2.9763157116538537,-1.6354022482612152,-1.834935753715314,2.1971369539727448,2.842191331129868,-8.967267601613031,11.292941876642558,-3.923803461478414,-7.296932152082803,5.577924346270393,-10.397044304610432,2.0902284029242963,-2.230474756266503,-16.561768426425957,-3.3240466000034274,-6.0681908325990435,11.642710248037304,12.844545156310275,-1.7105776367648247,-5.183957544049932,5.927253616849782,-0.1785106686695599,4.668381316855587,14.364052131971619,9.325024222858659,5.62892495426496,0.27042306680466766,0.044505004725508,8.039794755473736,-2.427168305503187,-0.2636336355243003,-3.599712186248084,4.657052504324938,-5.21059987126614,-0.5638494956761235,4.52349113597343,-8.714326938087197,-9.820714542682083,-13.78313317125324,-8.395956395745046,-8.841644095779984,-8.313342969775377,3.007425891834913,-0.08961633882643127,-7.378916496619638,1.2092124275527425,12.644563892557798,-4.471575571508268,3.993209737182454,-5.988250186257602,-3.219956620295278,-1.8339885642909053,11.712732986364372,13.882651003391821,-3.0309817382926525,4.029071165241945,-2.944174229016795,7.9944222960276505,14.059838763104551,-16.69106483745884,13.411074024301726,-6.074380527314787,-9.983036065706386,-0.3591502260367605,-12.657255251873721,-0.1121915410471388,10.571267195144742,-5.864916081440285,7.338764102889101,-17.83914876515476,1.277259861888865,7.787495506383507,-3.84915462840938,-1.471239032862897,6.4076109585824526,-10.12217465884197,-4.652106609012435,-6.123942881523533,-12.078272207876537,0.06897167320603614,-5.97215261064585,10.942728160048375,-33.92469577976186,-2.645246476796828,0.08306751706302862,-2.801391024970542,-2.465576066799116,8.118258799613898,9.065387864171257,-16.151068697329677,-0.5610632637823585,-4.478313395407653,22.08983452359338,4.7234573458455245,0.8799588535380565,14.772644900183934,7.316254018343955,5.681918247487204,-0.938375707605374,-5.049904750499593,-0.4425734539287731,5.921760216409496,13.846014230178525,12.69058746927837,4.352411450174159,12.008778656385005,9.977209709507022,14.971180124905572,-10.198646266825904,-7.402653050986551,13.747908608500765,16.062833497727766,-17.458977883529485,-9.004572245407672,-13.537923657149065,8.418375603586355,25.24198839842093,14.148357576531666,6.109603888180729,17.134113157554893,14.289846979001695,-0.12136339269258656,18.458794403171595,-1.4250064873592976,-7.24324632826243,8.300690531058734,-3.8218011285590023,31.207932553454143,11.417845481749367,4.4678822667504505,21.164458357742475,5.129283463453319,-4.17586871497403,-1.3409658577007804,-3.5790171327489446,-13.72763912510726,-8.115660079281213,-2.645517429512495,2.562389609816776,-5.884174151268638,4.3263128691207555,-18.60177897359253,7.345501244898955,-6.251477923620627,-14.669328426265054,-13.640083262982955,-10.067524415710537,8.420379691988828,-6.37526987784193,-13.128260847578886,-9.730041371622235,1.7026583696542161,-0.13079086018420583,11.518983529889525,0.0013295258809051802,4.442008677738144,-5.462825855951991,-14.33360455792429,-1.4437996482088948,-8.280892916826993,5.293475309542146,-2.7525299429281063,-9.632445990679074,21.220413810626944,-8.644835958361483,-14.02083645556253,-4.899883719934451,2.2905747566172323,-2.900938033211375,-19.577645874234634,-2.8634809115062296,-21.87108740447954,5.150742596709719,7.237287969363791,16.848871042878116,2.153162471534671,11.530057149511634,8.443437352428049,3.1288654350222913,0.7001961852674867,4.824627437044313,-4.029572730951813,1.912668034295308,13.775653808832132,15.519534043754007,-10.755183908256228,-7.186630773864067,4.215165367734045,-9.050035074056183,-19.053416655577962,6.294632030834023,-8.371512324338624,-0.9308598949517233,-1.7350428458387768,-3.1407192524481076,7.019140601765514,3.64850820714274,-20.03939938701214,1.5927423453516525,-7.020509515181374,4.661847334599798,10.704794293471622,11.96763500836326,3.666574956499119,-1.4916884373441377,-8.99844291832325,6.781094049023736,-9.860144407063189,3.4415413515586977,-9.812996366943466,-5.8383280274923095,-6.365521800870397,-5.62969282187025,15.030265607689884,-11.715776273391953,-10.424532894566568,5.713320648866386,2.1595242340589635,2.1487132067985044,7.7185374630974195,8.640044243450816,13.982038101331625,-3.6730595861337463,26.30530774387374,-6.851625750599183,2.4759232449511757,-8.164455843997871,-8.243421457727933,0.35461466847044676,1.983108267872666,-7.806337433610594,-8.843641839374612,2.0367190128648787,-2.9160549484556455,1.7927654796346388,-4.4321835708837085,-1.4473423498422022,-12.206378582685062,-8.270179510509337,8.591988239960187,5.638547535955112,3.7524901623219193,-23.562517689202906,-2.076021239160127,-5.854018898841787,5.029247320840881,3.62895792269137,-1.7045976287132873,7.369988382732544,-6.555066322883931,-15.219237064693274,8.708256237256023,-6.0407912086838,-2.1945523088259904,-9.326854580041172,9.974532390146578,7.847139973287483,-8.077512751160924,-1.3981612641463954,3.5364599987489953,-0.04583294158108231,-8.347517444732205,-10.247739742734325,3.5884790456829023,-7.778027468983126,11.62130108898063,-1.3025779739737544,-12.206582280100037,2.748744715261765,-7.35832095816815,-7.069463615136669,4.497342342415465,-1.6927102947281583,16.52642937830933,2.8521746583150502,-2.1444856214416745,30.382542634522707,12.034236559699309,-7.0352084270983966,10.882268759247978,-14.158818166149004,-21.49066599025599,-1.069699094520061,5.284872488159877,19.07356988811543,2.5830179382805625,15.496664502727569,7.057074186354157,3.8483082137908866,-0.5564485286828074,0.07570496525598003,-4.203272225317519,-7.879279239621084,-0.30691709389124355,5.409576489158056,22.473183559581756,10.147233193221247,16.848621179556716,-7.845604818004162,8.734750849385705,-4.921480172009424,-5.979187000057081,4.598816701583132,-1.0484050224343093,-22.145543609881514,-4.8993836119465755,-6.313695948929549,-12.134659512374924,8.48112439758863,-15.055651188003054,3.479579144322827,23.11899715570968,-15.968955586306976,-2.895397902754155,-7.018608125184869,1.6072582763733863,-4.109283098489854,12.241223287653028,-3.474529958357749,-8.147369711710112,-18.419550716813262,-0.46990170585891633,16.781408132795036,1.1020205313564162,-1.4289285910500809,-9.562123892710204,1.710489501266352,-0.8739587395619708,19.728027829778995,8.033722218119735,6.818021197007241,-1.8240811807015263,-7.370555209391071,3.789470977261068,-9.289825070646941,5.675565012968676,-8.033531607515911,3.904052786882545,-11.777434961673293,-7.586401361395872,-10.253179698266479,-2.8640043287603163,-9.333276327991626,7.316753921499071,-14.144853176346516,2.961654443929312,-4.580466311080272,-5.367474528891833,7.749324271062946,-15.210181377235827,18.8043773270267,7.567833628521512,-15.982344858212429,3.393219292393084,13.40228278684826,4.119175539790291,-10.542243857957999,-8.80877743177966,-7.457690747448524,11.192293328019616,3.327673905172901,3.565000495089862,-7.630239699466827,7.854504859897375,-8.395627123269335,1.9389416843949618,-16.45905709972719,-18.26874097438079,23.468858575261052,-2.0582854041634278,15.632556207999215,1.9806544597099958,8.60362538292776,-5.8184585226677115,-12.427429692006143,22.012563205460665,7.566403041751016,-10.397269974466724,-2.1449473924157587,-5.279095947979499,4.399985992642101,-9.142587526757083,-4.812435869408404,9.486023560682924,4.130573321353893,5.420966086256229,0.12901712410499044,0.41412284305877733,-12.010875526205822,-13.23387527430205,5.260866933279459,12.026932401126828,1.1801086149315978,2.5960849288421457,3.663538722020263,-15.695324115389383,-12.387662324173931,12.485531438508417,-0.32503362365109467,-15.334575536824943,9.07722209207391,-6.0662410225502015],\"xaxis\":\"x\",\"yaxis\":\"y\",\"type\":\"histogram\"}],                        {\"template\":{\"data\":{\"histogram2dcontour\":[{\"type\":\"histogram2dcontour\",\"colorbar\":{\"outlinewidth\":0,\"ticks\":\"\"},\"colorscale\":[[0.0,\"#0d0887\"],[0.1111111111111111,\"#46039f\"],[0.2222222222222222,\"#7201a8\"],[0.3333333333333333,\"#9c179e\"],[0.4444444444444444,\"#bd3786\"],[0.5555555555555556,\"#d8576b\"],[0.6666666666666666,\"#ed7953\"],[0.7777777777777778,\"#fb9f3a\"],[0.8888888888888888,\"#fdca26\"],[1.0,\"#f0f921\"]]}],\"choropleth\":[{\"type\":\"choropleth\",\"colorbar\":{\"outlinewidth\":0,\"ticks\":\"\"}}],\"histogram2d\":[{\"type\":\"histogram2d\",\"colorbar\":{\"outlinewidth\":0,\"ticks\":\"\"},\"colorscale\":[[0.0,\"#0d0887\"],[0.1111111111111111,\"#46039f\"],[0.2222222222222222,\"#7201a8\"],[0.3333333333333333,\"#9c179e\"],[0.4444444444444444,\"#bd3786\"],[0.5555555555555556,\"#d8576b\"],[0.6666666666666666,\"#ed7953\"],[0.7777777777777778,\"#fb9f3a\"],[0.8888888888888888,\"#fdca26\"],[1.0,\"#f0f921\"]]}],\"heatmap\":[{\"type\":\"heatmap\",\"colorbar\":{\"outlinewidth\":0,\"ticks\":\"\"},\"colorscale\":[[0.0,\"#0d0887\"],[0.1111111111111111,\"#46039f\"],[0.2222222222222222,\"#7201a8\"],[0.3333333333333333,\"#9c179e\"],[0.4444444444444444,\"#bd3786\"],[0.5555555555555556,\"#d8576b\"],[0.6666666666666666,\"#ed7953\"],[0.7777777777777778,\"#fb9f3a\"],[0.8888888888888888,\"#fdca26\"],[1.0,\"#f0f921\"]]}],\"heatmapgl\":[{\"type\":\"heatmapgl\",\"colorbar\":{\"outlinewidth\":0,\"ticks\":\"\"},\"colorscale\":[[0.0,\"#0d0887\"],[0.1111111111111111,\"#46039f\"],[0.2222222222222222,\"#7201a8\"],[0.3333333333333333,\"#9c179e\"],[0.4444444444444444,\"#bd3786\"],[0.5555555555555556,\"#d8576b\"],[0.6666666666666666,\"#ed7953\"],[0.7777777777777778,\"#fb9f3a\"],[0.8888888888888888,\"#fdca26\"],[1.0,\"#f0f921\"]]}],\"contourcarpet\":[{\"type\":\"contourcarpet\",\"colorbar\":{\"outlinewidth\":0,\"ticks\":\"\"}}],\"contour\":[{\"type\":\"contour\",\"colorbar\":{\"outlinewidth\":0,\"ticks\":\"\"},\"colorscale\":[[0.0,\"#0d0887\"],[0.1111111111111111,\"#46039f\"],[0.2222222222222222,\"#7201a8\"],[0.3333333333333333,\"#9c179e\"],[0.4444444444444444,\"#bd3786\"],[0.5555555555555556,\"#d8576b\"],[0.6666666666666666,\"#ed7953\"],[0.7777777777777778,\"#fb9f3a\"],[0.8888888888888888,\"#fdca26\"],[1.0,\"#f0f921\"]]}],\"surface\":[{\"type\":\"surface\",\"colorbar\":{\"outlinewidth\":0,\"ticks\":\"\"},\"colorscale\":[[0.0,\"#0d0887\"],[0.1111111111111111,\"#46039f\"],[0.2222222222222222,\"#7201a8\"],[0.3333333333333333,\"#9c179e\"],[0.4444444444444444,\"#bd3786\"],[0.5555555555555556,\"#d8576b\"],[0.6666666666666666,\"#ed7953\"],[0.7777777777777778,\"#fb9f3a\"],[0.8888888888888888,\"#fdca26\"],[1.0,\"#f0f921\"]]}],\"mesh3d\":[{\"type\":\"mesh3d\",\"colorbar\":{\"outlinewidth\":0,\"ticks\":\"\"}}],\"scatter\":[{\"fillpattern\":{\"fillmode\":\"overlay\",\"size\":10,\"solidity\":0.2},\"type\":\"scatter\"}],\"parcoords\":[{\"type\":\"parcoords\",\"line\":{\"colorbar\":{\"outlinewidth\":0,\"ticks\":\"\"}}}],\"scatterpolargl\":[{\"type\":\"scatterpolargl\",\"marker\":{\"colorbar\":{\"outlinewidth\":0,\"ticks\":\"\"}}}],\"bar\":[{\"error_x\":{\"color\":\"#2a3f5f\"},\"error_y\":{\"color\":\"#2a3f5f\"},\"marker\":{\"line\":{\"color\":\"#E5ECF6\",\"width\":0.5},\"pattern\":{\"fillmode\":\"overlay\",\"size\":10,\"solidity\":0.2}},\"type\":\"bar\"}],\"scattergeo\":[{\"type\":\"scattergeo\",\"marker\":{\"colorbar\":{\"outlinewidth\":0,\"ticks\":\"\"}}}],\"scatterpolar\":[{\"type\":\"scatterpolar\",\"marker\":{\"colorbar\":{\"outlinewidth\":0,\"ticks\":\"\"}}}],\"histogram\":[{\"marker\":{\"pattern\":{\"fillmode\":\"overlay\",\"size\":10,\"solidity\":0.2}},\"type\":\"histogram\"}],\"scattergl\":[{\"type\":\"scattergl\",\"marker\":{\"colorbar\":{\"outlinewidth\":0,\"ticks\":\"\"}}}],\"scatter3d\":[{\"type\":\"scatter3d\",\"line\":{\"colorbar\":{\"outlinewidth\":0,\"ticks\":\"\"}},\"marker\":{\"colorbar\":{\"outlinewidth\":0,\"ticks\":\"\"}}}],\"scattermapbox\":[{\"type\":\"scattermapbox\",\"marker\":{\"colorbar\":{\"outlinewidth\":0,\"ticks\":\"\"}}}],\"scatterternary\":[{\"type\":\"scatterternary\",\"marker\":{\"colorbar\":{\"outlinewidth\":0,\"ticks\":\"\"}}}],\"scattercarpet\":[{\"type\":\"scattercarpet\",\"marker\":{\"colorbar\":{\"outlinewidth\":0,\"ticks\":\"\"}}}],\"carpet\":[{\"aaxis\":{\"endlinecolor\":\"#2a3f5f\",\"gridcolor\":\"white\",\"linecolor\":\"white\",\"minorgridcolor\":\"white\",\"startlinecolor\":\"#2a3f5f\"},\"baxis\":{\"endlinecolor\":\"#2a3f5f\",\"gridcolor\":\"white\",\"linecolor\":\"white\",\"minorgridcolor\":\"white\",\"startlinecolor\":\"#2a3f5f\"},\"type\":\"carpet\"}],\"table\":[{\"cells\":{\"fill\":{\"color\":\"#EBF0F8\"},\"line\":{\"color\":\"white\"}},\"header\":{\"fill\":{\"color\":\"#C8D4E3\"},\"line\":{\"color\":\"white\"}},\"type\":\"table\"}],\"barpolar\":[{\"marker\":{\"line\":{\"color\":\"#E5ECF6\",\"width\":0.5},\"pattern\":{\"fillmode\":\"overlay\",\"size\":10,\"solidity\":0.2}},\"type\":\"barpolar\"}],\"pie\":[{\"automargin\":true,\"type\":\"pie\"}]},\"layout\":{\"autotypenumbers\":\"strict\",\"colorway\":[\"#636efa\",\"#EF553B\",\"#00cc96\",\"#ab63fa\",\"#FFA15A\",\"#19d3f3\",\"#FF6692\",\"#B6E880\",\"#FF97FF\",\"#FECB52\"],\"font\":{\"color\":\"#2a3f5f\"},\"hovermode\":\"closest\",\"hoverlabel\":{\"align\":\"left\"},\"paper_bgcolor\":\"white\",\"plot_bgcolor\":\"#E5ECF6\",\"polar\":{\"bgcolor\":\"#E5ECF6\",\"angularaxis\":{\"gridcolor\":\"white\",\"linecolor\":\"white\",\"ticks\":\"\"},\"radialaxis\":{\"gridcolor\":\"white\",\"linecolor\":\"white\",\"ticks\":\"\"}},\"ternary\":{\"bgcolor\":\"#E5ECF6\",\"aaxis\":{\"gridcolor\":\"white\",\"linecolor\":\"white\",\"ticks\":\"\"},\"baxis\":{\"gridcolor\":\"white\",\"linecolor\":\"white\",\"ticks\":\"\"},\"caxis\":{\"gridcolor\":\"white\",\"linecolor\":\"white\",\"ticks\":\"\"}},\"coloraxis\":{\"colorbar\":{\"outlinewidth\":0,\"ticks\":\"\"}},\"colorscale\":{\"sequential\":[[0.0,\"#0d0887\"],[0.1111111111111111,\"#46039f\"],[0.2222222222222222,\"#7201a8\"],[0.3333333333333333,\"#9c179e\"],[0.4444444444444444,\"#bd3786\"],[0.5555555555555556,\"#d8576b\"],[0.6666666666666666,\"#ed7953\"],[0.7777777777777778,\"#fb9f3a\"],[0.8888888888888888,\"#fdca26\"],[1.0,\"#f0f921\"]],\"sequentialminus\":[[0.0,\"#0d0887\"],[0.1111111111111111,\"#46039f\"],[0.2222222222222222,\"#7201a8\"],[0.3333333333333333,\"#9c179e\"],[0.4444444444444444,\"#bd3786\"],[0.5555555555555556,\"#d8576b\"],[0.6666666666666666,\"#ed7953\"],[0.7777777777777778,\"#fb9f3a\"],[0.8888888888888888,\"#fdca26\"],[1.0,\"#f0f921\"]],\"diverging\":[[0,\"#8e0152\"],[0.1,\"#c51b7d\"],[0.2,\"#de77ae\"],[0.3,\"#f1b6da\"],[0.4,\"#fde0ef\"],[0.5,\"#f7f7f7\"],[0.6,\"#e6f5d0\"],[0.7,\"#b8e186\"],[0.8,\"#7fbc41\"],[0.9,\"#4d9221\"],[1,\"#276419\"]]},\"xaxis\":{\"gridcolor\":\"white\",\"linecolor\":\"white\",\"ticks\":\"\",\"title\":{\"standoff\":15},\"zerolinecolor\":\"white\",\"automargin\":true,\"zerolinewidth\":2},\"yaxis\":{\"gridcolor\":\"white\",\"linecolor\":\"white\",\"ticks\":\"\",\"title\":{\"standoff\":15},\"zerolinecolor\":\"white\",\"automargin\":true,\"zerolinewidth\":2},\"scene\":{\"xaxis\":{\"backgroundcolor\":\"#E5ECF6\",\"gridcolor\":\"white\",\"linecolor\":\"white\",\"showbackground\":true,\"ticks\":\"\",\"zerolinecolor\":\"white\",\"gridwidth\":2},\"yaxis\":{\"backgroundcolor\":\"#E5ECF6\",\"gridcolor\":\"white\",\"linecolor\":\"white\",\"showbackground\":true,\"ticks\":\"\",\"zerolinecolor\":\"white\",\"gridwidth\":2},\"zaxis\":{\"backgroundcolor\":\"#E5ECF6\",\"gridcolor\":\"white\",\"linecolor\":\"white\",\"showbackground\":true,\"ticks\":\"\",\"zerolinecolor\":\"white\",\"gridwidth\":2}},\"shapedefaults\":{\"line\":{\"color\":\"#2a3f5f\"}},\"annotationdefaults\":{\"arrowcolor\":\"#2a3f5f\",\"arrowhead\":0,\"arrowwidth\":1},\"geo\":{\"bgcolor\":\"white\",\"landcolor\":\"#E5ECF6\",\"subunitcolor\":\"white\",\"showland\":true,\"showlakes\":true,\"lakecolor\":\"white\"},\"title\":{\"x\":0.05},\"mapbox\":{\"style\":\"light\"}}},\"xaxis\":{\"anchor\":\"y\",\"domain\":[0.0,1.0],\"title\":{\"text\":\"error\"}},\"yaxis\":{\"anchor\":\"x\",\"domain\":[0.0,1.0],\"title\":{\"text\":\"count\"}},\"legend\":{\"tracegroupgap\":0},\"margin\":{\"t\":60},\"barmode\":\"relative\",\"width\":800},                        {\"responsive\": true}                    ).then(function(){\n",
              "                            \n",
              "var gd = document.getElementById('806c7cc7-4dad-4871-b18d-1228c44d853a');\n",
              "var x = new MutationObserver(function (mutations, observer) {{\n",
              "        var display = window.getComputedStyle(gd).display;\n",
              "        if (!display || display === 'none') {{\n",
              "            console.log([gd, 'removed!']);\n",
              "            Plotly.purge(gd);\n",
              "            observer.disconnect();\n",
              "        }}\n",
              "}});\n",
              "\n",
              "// Listen for the removal of the full notebook cells\n",
              "var notebookContainer = gd.closest('#notebook-container');\n",
              "if (notebookContainer) {{\n",
              "    x.observe(notebookContainer, {childList: true});\n",
              "}}\n",
              "\n",
              "// Listen for the clearing of the current output cell\n",
              "var outputEl = gd.closest('.output');\n",
              "if (outputEl) {{\n",
              "    x.observe(outputEl, {childList: true});\n",
              "}}\n",
              "\n",
              "                        })                };                            </script>        </div>\n",
              "</body>\n",
              "</html>"
            ]
          },
          "metadata": {}
        }
      ]
    },
    {
      "cell_type": "markdown",
      "metadata": {
        "id": "ZVr1O1j3FFiM"
      },
      "source": [
        "### <a name='a3'></a> Mean Absolute Error - Średni błąd bezwzględny\n",
        "### $$MAE = \\frac{1}{n}\\sum_{i=1}^{n}|y_{true} - y_{pred}|$$"
      ]
    },
    {
      "cell_type": "code",
      "source": [
        "def mean_absolute_error(y_true, y_pred):\n",
        "  return abs(y_true - y_pred).sum() / len(y_true)\n",
        "\n",
        "mean_absolute_error(y_true, y_pred)"
      ],
      "metadata": {
        "colab": {
          "base_uri": "https://localhost:8080/"
        },
        "id": "4-Ad1imI2bIy",
        "outputId": "5be06d93-b1ea-4a6d-e554-baeb43d0c004"
      },
      "execution_count": 12,
      "outputs": [
        {
          "output_type": "execute_result",
          "data": {
            "text/plain": [
              "np.float64(7.743154827272271)"
            ]
          },
          "metadata": {},
          "execution_count": 12
        }
      ]
    },
    {
      "cell_type": "code",
      "source": [
        "from sklearn.metrics import mean_absolute_error\n",
        "\n",
        "print(mean_absolute_error(y_true, y_pred))"
      ],
      "metadata": {
        "colab": {
          "base_uri": "https://localhost:8080/"
        },
        "id": "COrrvVpe3Jpw",
        "outputId": "af3b3727-68fe-4817-dab8-a2aa34628d9e"
      },
      "execution_count": 13,
      "outputs": [
        {
          "output_type": "stream",
          "name": "stdout",
          "text": [
            "7.743154827272271\n"
          ]
        }
      ]
    },
    {
      "cell_type": "markdown",
      "metadata": {
        "id": "dbAtacGCGjaR"
      },
      "source": [
        "### <a name='a4'></a> Mean Squared Error - MSE - Błąd średniokwadratowy\n",
        "### $$MSE = \\frac{1}{n}\\sum_{i=1}^{n}(y_{true} - y_{pred})^{2}$$"
      ]
    },
    {
      "cell_type": "code",
      "source": [
        "def mean_squared_error(y_true, y_pred):\n",
        "  return ((y_true - y_pred) ** 2).sum() / len(y_true)\n",
        "\n",
        "mean_squared_error(y_true, y_pred)"
      ],
      "metadata": {
        "colab": {
          "base_uri": "https://localhost:8080/"
        },
        "id": "O9KffC_V3jsA",
        "outputId": "7c08388b-4834-4c2e-d386-50685f328e47"
      },
      "execution_count": 15,
      "outputs": [
        {
          "output_type": "execute_result",
          "data": {
            "text/plain": [
              "np.float64(94.41480131747592)"
            ]
          },
          "metadata": {},
          "execution_count": 15
        }
      ]
    },
    {
      "cell_type": "code",
      "source": [
        "from sklearn.metrics import mean_squared_error\n",
        "\n",
        "print(mean_squared_error(y_true, y_pred))"
      ],
      "metadata": {
        "colab": {
          "base_uri": "https://localhost:8080/"
        },
        "id": "RFhd88Ep4RtX",
        "outputId": "c8982190-d4fd-4b5d-c7fe-67440112a0f2"
      },
      "execution_count": 16,
      "outputs": [
        {
          "output_type": "stream",
          "name": "stdout",
          "text": [
            "94.41480131747592\n"
          ]
        }
      ]
    },
    {
      "cell_type": "markdown",
      "metadata": {
        "id": "SKJJg3jNG-xj"
      },
      "source": [
        "### <a name='a5'></a> Root Mean Squared Error - RMSE - Pierwiastek błędu średniokwadratowego\n",
        "### $$RMSE = \\sqrt{MSE}$$"
      ]
    },
    {
      "cell_type": "code",
      "source": [
        "def root_mean_squared_error(y_true, y_pred):\n",
        "  return np.sqrt(((y_true - y_pred) ** 2).sum() / len(y_true))\n",
        "\n",
        "root_mean_squared_error(y_true, y_pred)"
      ],
      "metadata": {
        "colab": {
          "base_uri": "https://localhost:8080/"
        },
        "id": "i_gVpkpj4uKD",
        "outputId": "adac9189-8eba-4414-f762-b1d800d313de"
      },
      "execution_count": 17,
      "outputs": [
        {
          "output_type": "execute_result",
          "data": {
            "text/plain": [
              "np.float64(9.716727912084187)"
            ]
          },
          "metadata": {},
          "execution_count": 17
        }
      ]
    },
    {
      "cell_type": "code",
      "source": [
        "from sklearn.metrics import root_mean_squared_error\n",
        "\n",
        "print(root_mean_squared_error(y_true, y_pred))"
      ],
      "metadata": {
        "colab": {
          "base_uri": "https://localhost:8080/"
        },
        "id": "6sAq4om95Hpj",
        "outputId": "9a28964f-b771-4861-e665-e087c81edfed"
      },
      "execution_count": 18,
      "outputs": [
        {
          "output_type": "stream",
          "name": "stdout",
          "text": [
            "9.716727912084187\n"
          ]
        }
      ]
    },
    {
      "cell_type": "markdown",
      "metadata": {
        "id": "wzS5t7dzIH-x"
      },
      "source": [
        "### <a name='a6'></a>  Max Error - Błąd maksymalny\n",
        "\n",
        "$$ME = max(|y\\_true - y\\_pred|)$$"
      ]
    },
    {
      "cell_type": "code",
      "source": [
        "def max_error(y_true, y_pred):\n",
        "  return abs(y_true - y_pred).max()\n",
        "\n",
        "max_error(y_true, y_pred)"
      ],
      "metadata": {
        "colab": {
          "base_uri": "https://localhost:8080/"
        },
        "id": "WqNn-f5b5Tru",
        "outputId": "9e9438f2-d666-44b3-e53d-19085672a09d"
      },
      "execution_count": 19,
      "outputs": [
        {
          "output_type": "execute_result",
          "data": {
            "text/plain": [
              "np.float64(33.92469577976186)"
            ]
          },
          "metadata": {},
          "execution_count": 19
        }
      ]
    },
    {
      "cell_type": "code",
      "source": [
        "from sklearn.metrics import max_error\n",
        "\n",
        "print(max_error(y_true, y_pred))"
      ],
      "metadata": {
        "colab": {
          "base_uri": "https://localhost:8080/"
        },
        "id": "Ngn40iOi6IGg",
        "outputId": "64c6d493-bab4-44bf-ae80-968225919723"
      },
      "execution_count": 20,
      "outputs": [
        {
          "output_type": "stream",
          "name": "stdout",
          "text": [
            "33.92469577976186\n"
          ]
        }
      ]
    },
    {
      "cell_type": "markdown",
      "metadata": {
        "id": "xRrH2NA5IYt9"
      },
      "source": [
        "### <a name='a7'></a>  R2 score - współczynnik determinacji\n",
        "### $$R2\\_score = 1 - \\frac{\\sum_{i=1}^{N}(y_{true} - y_{pred})^{2}}{\\sum_{i=1}^{N}(y_{true} - \\overline{y_{true}})^{2}}$$"
      ]
    },
    {
      "cell_type": "code",
      "source": [
        "def R2_score(y_true, y_pred):\n",
        "  return 1 - (((y_true - y_pred) ** 2).sum() / ((y_true - np.mean(y_true)) ** 2).sum())\n",
        "\n",
        "R2_score(y_true, y_pred)"
      ],
      "metadata": {
        "colab": {
          "base_uri": "https://localhost:8080/"
        },
        "id": "JS5f4qIv6P44",
        "outputId": "32ff0d85-357f-4af7-ca6d-692ffe566682"
      },
      "execution_count": 23,
      "outputs": [
        {
          "output_type": "execute_result",
          "data": {
            "text/plain": [
              "np.float64(0.7399354296114118)"
            ]
          },
          "metadata": {},
          "execution_count": 23
        }
      ]
    },
    {
      "cell_type": "code",
      "source": [
        "from sklearn.metrics import r2_score\n",
        "\n",
        "print(r2_score(y_true, y_pred))"
      ],
      "metadata": {
        "colab": {
          "base_uri": "https://localhost:8080/"
        },
        "id": "10F7A8Rf7L6c",
        "outputId": "c152a7f3-3270-42c9-f205-5a76e6cc8255"
      },
      "execution_count": 24,
      "outputs": [
        {
          "output_type": "stream",
          "name": "stdout",
          "text": [
            "0.7399354296114118\n"
          ]
        }
      ]
    },
    {
      "cell_type": "code",
      "source": [],
      "metadata": {
        "id": "g8S-bprF7XfX"
      },
      "execution_count": null,
      "outputs": []
    }
  ]
}